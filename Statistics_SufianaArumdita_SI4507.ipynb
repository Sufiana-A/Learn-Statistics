{
 "cells": [
  {
   "cell_type": "code",
   "execution_count": 1,
   "id": "7fd2952c",
   "metadata": {},
   "outputs": [],
   "source": [
    "import numpy as np\n",
    "import pandas as pd\n",
    "from pandas import Series, DataFrame\n",
    "import scipy\n",
    "from scipy import stats"
   ]
  },
  {
   "cell_type": "code",
   "execution_count": 2,
   "id": "eaeeebc9",
   "metadata": {},
   "outputs": [
    {
     "data": {
      "text/plain": [
       "'1.3.4'"
      ]
     },
     "execution_count": 2,
     "metadata": {},
     "output_type": "execute_result"
    }
   ],
   "source": [
    "pd.__version__"
   ]
  },
  {
   "cell_type": "code",
   "execution_count": 3,
   "id": "de8debf4",
   "metadata": {
    "scrolled": true
   },
   "outputs": [
    {
     "data": {
      "text/html": [
       "<div>\n",
       "<style scoped>\n",
       "    .dataframe tbody tr th:only-of-type {\n",
       "        vertical-align: middle;\n",
       "    }\n",
       "\n",
       "    .dataframe tbody tr th {\n",
       "        vertical-align: top;\n",
       "    }\n",
       "\n",
       "    .dataframe thead th {\n",
       "        text-align: right;\n",
       "    }\n",
       "</style>\n",
       "<table border=\"1\" class=\"dataframe\">\n",
       "  <thead>\n",
       "    <tr style=\"text-align: right;\">\n",
       "      <th></th>\n",
       "      <th>Wilayah</th>\n",
       "      <th>No_Kecamatan</th>\n",
       "      <th>Kemasan_kaleng(kg)</th>\n",
       "      <th>Kemasan_plastik(kg)</th>\n",
       "      <th>E-waste(kg)</th>\n",
       "      <th>Baterai(kg)</th>\n",
       "      <th>Lampu_bekas(kg)</th>\n",
       "      <th>Lb3_rt(kg)</th>\n",
       "      <th>Limbah_medis(kg)</th>\n",
       "      <th>Lb3_rt_dan_medis(kg)</th>\n",
       "      <th>Oli_bekas(L)</th>\n",
       "    </tr>\n",
       "  </thead>\n",
       "  <tbody>\n",
       "    <tr>\n",
       "      <th>0</th>\n",
       "      <td>Jakarta Barat</td>\n",
       "      <td>8</td>\n",
       "      <td>756.93</td>\n",
       "      <td>284.98</td>\n",
       "      <td>102.605</td>\n",
       "      <td>0.2</td>\n",
       "      <td>7.84</td>\n",
       "      <td>1152.555</td>\n",
       "      <td>25.63</td>\n",
       "      <td>1178.185</td>\n",
       "      <td>0</td>\n",
       "    </tr>\n",
       "    <tr>\n",
       "      <th>1</th>\n",
       "      <td>Jakarta Utara</td>\n",
       "      <td>6</td>\n",
       "      <td>158.17</td>\n",
       "      <td>12.86</td>\n",
       "      <td>139.370</td>\n",
       "      <td>0.0</td>\n",
       "      <td>0.00</td>\n",
       "      <td>310.400</td>\n",
       "      <td>0.00</td>\n",
       "      <td>310.400</td>\n",
       "      <td>0</td>\n",
       "    </tr>\n",
       "    <tr>\n",
       "      <th>2</th>\n",
       "      <td>Jakarta Selatan</td>\n",
       "      <td>10</td>\n",
       "      <td>238.07</td>\n",
       "      <td>58.00</td>\n",
       "      <td>658.590</td>\n",
       "      <td>0.9</td>\n",
       "      <td>10.50</td>\n",
       "      <td>966.060</td>\n",
       "      <td>63.80</td>\n",
       "      <td>1029.860</td>\n",
       "      <td>0</td>\n",
       "    </tr>\n",
       "    <tr>\n",
       "      <th>3</th>\n",
       "      <td>Jakarta Pusat</td>\n",
       "      <td>8</td>\n",
       "      <td>166.35</td>\n",
       "      <td>70.00</td>\n",
       "      <td>174.150</td>\n",
       "      <td>16.0</td>\n",
       "      <td>23.00</td>\n",
       "      <td>449.500</td>\n",
       "      <td>27.30</td>\n",
       "      <td>476.800</td>\n",
       "      <td>0</td>\n",
       "    </tr>\n",
       "    <tr>\n",
       "      <th>4</th>\n",
       "      <td>Jakarta Timur</td>\n",
       "      <td>10</td>\n",
       "      <td>353.55</td>\n",
       "      <td>48.12</td>\n",
       "      <td>309.950</td>\n",
       "      <td>0.0</td>\n",
       "      <td>7.00</td>\n",
       "      <td>718.620</td>\n",
       "      <td>0.00</td>\n",
       "      <td>718.620</td>\n",
       "      <td>0</td>\n",
       "    </tr>\n",
       "  </tbody>\n",
       "</table>\n",
       "</div>"
      ],
      "text/plain": [
       "           Wilayah  No_Kecamatan  Kemasan_kaleng(kg)  Kemasan_plastik(kg)  \\\n",
       "0    Jakarta Barat             8              756.93               284.98   \n",
       "1    Jakarta Utara             6              158.17                12.86   \n",
       "2  Jakarta Selatan            10              238.07                58.00   \n",
       "3    Jakarta Pusat             8              166.35                70.00   \n",
       "4    Jakarta Timur            10              353.55                48.12   \n",
       "\n",
       "   E-waste(kg)  Baterai(kg)  Lampu_bekas(kg)  Lb3_rt(kg)  Limbah_medis(kg)  \\\n",
       "0      102.605          0.2             7.84    1152.555             25.63   \n",
       "1      139.370          0.0             0.00     310.400              0.00   \n",
       "2      658.590          0.9            10.50     966.060             63.80   \n",
       "3      174.150         16.0            23.00     449.500             27.30   \n",
       "4      309.950          0.0             7.00     718.620              0.00   \n",
       "\n",
       "   Lb3_rt_dan_medis(kg)  Oli_bekas(L)  \n",
       "0              1178.185             0  \n",
       "1               310.400             0  \n",
       "2              1029.860             0  \n",
       "3               476.800             0  \n",
       "4               718.620             0  "
      ]
     },
     "execution_count": 3,
     "metadata": {},
     "output_type": "execute_result"
    }
   ],
   "source": [
    "file = \"data-pelayanan-pengelolaan-sampah-b3-rumah-tangga-bulan-april-tahun-2021.csv\"\n",
    "\n",
    "limbah = pd.read_csv(file)\n",
    "\n",
    "limbah.columns = [\n",
    "    \"Wilayah\",\n",
    "    \"No_Kecamatan\",\n",
    "    \"Kemasan_kaleng(kg)\",\n",
    "    \"Kemasan_plastik(kg)\",\n",
    "    \"E-waste(kg)\",\n",
    "    \"Baterai(kg)\",\n",
    "    \"Lampu_bekas(kg)\",\n",
    "    \"Lb3_rt(kg)\",\n",
    "    \"Limbah_medis(kg)\",\n",
    "    \"Lb3_rt_dan_medis(kg)\",\n",
    "    \"Oli_bekas(L)\"\n",
    "]\n",
    "\n",
    "limbah.head()"
   ]
  },
  {
   "cell_type": "code",
   "execution_count": 4,
   "id": "7aca2638",
   "metadata": {},
   "outputs": [
    {
     "data": {
      "text/html": [
       "<div>\n",
       "<style scoped>\n",
       "    .dataframe tbody tr th:only-of-type {\n",
       "        vertical-align: middle;\n",
       "    }\n",
       "\n",
       "    .dataframe tbody tr th {\n",
       "        vertical-align: top;\n",
       "    }\n",
       "\n",
       "    .dataframe thead th {\n",
       "        text-align: right;\n",
       "    }\n",
       "</style>\n",
       "<table border=\"1\" class=\"dataframe\">\n",
       "  <thead>\n",
       "    <tr style=\"text-align: right;\">\n",
       "      <th></th>\n",
       "      <th>Wilayah</th>\n",
       "      <th>No_Kecamatan</th>\n",
       "      <th>Kemasan_kaleng(kg)</th>\n",
       "      <th>Kemasan_plastik(kg)</th>\n",
       "      <th>E-waste(kg)</th>\n",
       "      <th>Baterai(kg)</th>\n",
       "      <th>Lampu_bekas(kg)</th>\n",
       "      <th>Limbah_medis(kg)</th>\n",
       "      <th>Oli_bekas(L)</th>\n",
       "    </tr>\n",
       "  </thead>\n",
       "  <tbody>\n",
       "    <tr>\n",
       "      <th>0</th>\n",
       "      <td>Jakarta Barat</td>\n",
       "      <td>8</td>\n",
       "      <td>756.93</td>\n",
       "      <td>284.98</td>\n",
       "      <td>102.605</td>\n",
       "      <td>0.2</td>\n",
       "      <td>7.84</td>\n",
       "      <td>25.63</td>\n",
       "      <td>0</td>\n",
       "    </tr>\n",
       "    <tr>\n",
       "      <th>1</th>\n",
       "      <td>Jakarta Utara</td>\n",
       "      <td>6</td>\n",
       "      <td>158.17</td>\n",
       "      <td>12.86</td>\n",
       "      <td>139.370</td>\n",
       "      <td>0.0</td>\n",
       "      <td>0.00</td>\n",
       "      <td>0.00</td>\n",
       "      <td>0</td>\n",
       "    </tr>\n",
       "    <tr>\n",
       "      <th>2</th>\n",
       "      <td>Jakarta Selatan</td>\n",
       "      <td>10</td>\n",
       "      <td>238.07</td>\n",
       "      <td>58.00</td>\n",
       "      <td>658.590</td>\n",
       "      <td>0.9</td>\n",
       "      <td>10.50</td>\n",
       "      <td>63.80</td>\n",
       "      <td>0</td>\n",
       "    </tr>\n",
       "    <tr>\n",
       "      <th>3</th>\n",
       "      <td>Jakarta Pusat</td>\n",
       "      <td>8</td>\n",
       "      <td>166.35</td>\n",
       "      <td>70.00</td>\n",
       "      <td>174.150</td>\n",
       "      <td>16.0</td>\n",
       "      <td>23.00</td>\n",
       "      <td>27.30</td>\n",
       "      <td>0</td>\n",
       "    </tr>\n",
       "    <tr>\n",
       "      <th>4</th>\n",
       "      <td>Jakarta Timur</td>\n",
       "      <td>10</td>\n",
       "      <td>353.55</td>\n",
       "      <td>48.12</td>\n",
       "      <td>309.950</td>\n",
       "      <td>0.0</td>\n",
       "      <td>7.00</td>\n",
       "      <td>0.00</td>\n",
       "      <td>0</td>\n",
       "    </tr>\n",
       "  </tbody>\n",
       "</table>\n",
       "</div>"
      ],
      "text/plain": [
       "           Wilayah  No_Kecamatan  Kemasan_kaleng(kg)  Kemasan_plastik(kg)  \\\n",
       "0    Jakarta Barat             8              756.93               284.98   \n",
       "1    Jakarta Utara             6              158.17                12.86   \n",
       "2  Jakarta Selatan            10              238.07                58.00   \n",
       "3    Jakarta Pusat             8              166.35                70.00   \n",
       "4    Jakarta Timur            10              353.55                48.12   \n",
       "\n",
       "   E-waste(kg)  Baterai(kg)  Lampu_bekas(kg)  Limbah_medis(kg)  Oli_bekas(L)  \n",
       "0      102.605          0.2             7.84             25.63             0  \n",
       "1      139.370          0.0             0.00              0.00             0  \n",
       "2      658.590          0.9            10.50             63.80             0  \n",
       "3      174.150         16.0            23.00             27.30             0  \n",
       "4      309.950          0.0             7.00              0.00             0  "
      ]
     },
     "execution_count": 4,
     "metadata": {},
     "output_type": "execute_result"
    }
   ],
   "source": [
    "limbah = limbah.drop(columns=[\"Lb3_rt(kg)\",\"Lb3_rt_dan_medis(kg)\"])\n",
    "limbah.head()"
   ]
  },
  {
   "cell_type": "code",
   "execution_count": 5,
   "id": "c8d047fe",
   "metadata": {},
   "outputs": [
    {
     "name": "stdout",
     "output_type": "stream",
     "text": [
      "            Wilayah  No_Kecamatan  Kemasan_kaleng(kg)  Kemasan_plastik(kg)  \\\n",
      "0     Jakarta Barat             8              756.93               284.98   \n",
      "1     Jakarta Utara             6              158.17                12.86   \n",
      "2   Jakarta Selatan            10              238.07                58.00   \n",
      "3     Jakarta Pusat             8              166.35                70.00   \n",
      "4     Jakarta Timur            10              353.55                48.12   \n",
      "5  Kepulauan Seribu             2              108.90                17.70   \n",
      "\n",
      "   E-waste(kg)  Baterai(kg)  Lampu_bekas(kg)  Limbah_medis(kg)  Oli_bekas(L)  \n",
      "0      102.605         0.20             7.84            25.630             0  \n",
      "1      139.370         0.00             0.00             0.000             0  \n",
      "2      658.590         0.90            10.50            63.800             0  \n",
      "3      174.150        16.00            23.00            27.300             0  \n",
      "4      309.950         0.00             7.00             0.000             0  \n",
      "5       82.000         0.15            14.05            12.075             0  \n"
     ]
    }
   ],
   "source": [
    "all_limbah = limbah.head(5)\n",
    "all_limbah = all_limbah.append(limbah.tail(1))\n",
    "print(all_limbah)"
   ]
  },
  {
   "cell_type": "code",
   "execution_count": 6,
   "id": "9f883555",
   "metadata": {},
   "outputs": [
    {
     "data": {
      "text/plain": [
       "Wilayah                Jakarta BaratJakarta UtaraJakarta SelatanJakar...\n",
       "No_Kecamatan                                                          44\n",
       "Kemasan_kaleng(kg)                                               1781.97\n",
       "Kemasan_plastik(kg)                                               491.66\n",
       "E-waste(kg)                                                     1466.665\n",
       "Baterai(kg)                                                        17.25\n",
       "Lampu_bekas(kg)                                                    62.39\n",
       "Limbah_medis(kg)                                                 128.805\n",
       "Oli_bekas(L)                                                           0\n",
       "dtype: object"
      ]
     },
     "execution_count": 6,
     "metadata": {},
     "output_type": "execute_result"
    }
   ],
   "source": [
    "limbah.sum()"
   ]
  },
  {
   "cell_type": "code",
   "execution_count": 7,
   "id": "d5d5346a",
   "metadata": {},
   "outputs": [
    {
     "data": {
      "text/plain": [
       "0    1186.185\n",
       "1     316.400\n",
       "2    1039.860\n",
       "3     484.800\n",
       "4     728.620\n",
       "5     236.875\n",
       "dtype: float64"
      ]
     },
     "execution_count": 7,
     "metadata": {},
     "output_type": "execute_result"
    }
   ],
   "source": [
    "limbah.sum(axis=1,numeric_only=True)"
   ]
  },
  {
   "cell_type": "code",
   "execution_count": 8,
   "id": "cb2d10aa",
   "metadata": {},
   "outputs": [
    {
     "data": {
      "text/plain": [
       "No_Kecamatan             8.0000\n",
       "Kemasan_kaleng(kg)     202.2100\n",
       "Kemasan_plastik(kg)     53.0600\n",
       "E-waste(kg)            156.7600\n",
       "Baterai(kg)              0.1750\n",
       "Lampu_bekas(kg)          9.1700\n",
       "Limbah_medis(kg)        18.8525\n",
       "Oli_bekas(L)             0.0000\n",
       "dtype: float64"
      ]
     },
     "execution_count": 8,
     "metadata": {},
     "output_type": "execute_result"
    }
   ],
   "source": [
    "limbah.median(numeric_only=True)"
   ]
  },
  {
   "cell_type": "code",
   "execution_count": 9,
   "id": "9b5ba270",
   "metadata": {},
   "outputs": [
    {
     "data": {
      "text/plain": [
       "No_Kecamatan             7.333333\n",
       "Kemasan_kaleng(kg)     296.995000\n",
       "Kemasan_plastik(kg)     81.943333\n",
       "E-waste(kg)            244.444167\n",
       "Baterai(kg)              2.875000\n",
       "Lampu_bekas(kg)         10.398333\n",
       "Limbah_medis(kg)        21.467500\n",
       "Oli_bekas(L)             0.000000\n",
       "dtype: float64"
      ]
     },
     "execution_count": 9,
     "metadata": {},
     "output_type": "execute_result"
    }
   ],
   "source": [
    "limbah.mean(numeric_only=True)"
   ]
  },
  {
   "cell_type": "code",
   "execution_count": 8,
   "id": "895bb352",
   "metadata": {},
   "outputs": [
    {
     "data": {
      "text/plain": [
       "wilayah                    Kepulauan Seribu\n",
       "jumlah_kecamatan                         10\n",
       "kemasan_kaleng_/kg                   756.93\n",
       "kemasan_plastik_/kg                  284.98\n",
       "e-waste_/kg                          658.59\n",
       "baterai_/kg                            16.0\n",
       "lampu_bekas/kg                         23.0\n",
       "jumlah_lb3_rumah_tangga            1152.555\n",
       "limbah_medis/kg                        63.8\n",
       "jumlah_lb3_rt_dan_medis            1178.185\n",
       "oli_bekas(liter)                          0\n",
       "dtype: object"
      ]
     },
     "execution_count": 8,
     "metadata": {},
     "output_type": "execute_result"
    }
   ],
   "source": [
    "limbah.max()"
   ]
  },
  {
   "cell_type": "code",
   "execution_count": 10,
   "id": "4a9de9d2",
   "metadata": {},
   "outputs": [
    {
     "data": {
      "text/plain": [
       "0    756.93\n",
       "1    158.17\n",
       "2    658.59\n",
       "3    174.15\n",
       "4    353.55\n",
       "5    108.90\n",
       "dtype: float64"
      ]
     },
     "execution_count": 10,
     "metadata": {},
     "output_type": "execute_result"
    }
   ],
   "source": [
    "limbah.max(axis=1,numeric_only=True)"
   ]
  },
  {
   "cell_type": "code",
   "execution_count": 3,
   "id": "3265f896",
   "metadata": {},
   "outputs": [
    {
     "data": {
      "text/plain": [
       "wilayah                    Jakarta Barat\n",
       "jumlah_kecamatan                       2\n",
       "kemasan_kaleng_/kg                 108.9\n",
       "kemasan_plastik_/kg                12.86\n",
       "e-waste_/kg                         82.0\n",
       "baterai_/kg                          0.0\n",
       "lampu_bekas/kg                       0.0\n",
       "jumlah_lb3_rumah_tangga            222.8\n",
       "limbah_medis/kg                      0.0\n",
       "jumlah_lb3_rt_dan_medis          234.875\n",
       "oli_bekas(liter)                       0\n",
       "dtype: object"
      ]
     },
     "execution_count": 3,
     "metadata": {},
     "output_type": "execute_result"
    }
   ],
   "source": [
    "limbah.min()"
   ]
  },
  {
   "cell_type": "code",
   "execution_count": 11,
   "id": "144cf024",
   "metadata": {},
   "outputs": [
    {
     "data": {
      "text/plain": [
       "0    0.0\n",
       "1    0.0\n",
       "2    0.0\n",
       "3    0.0\n",
       "4    0.0\n",
       "5    0.0\n",
       "dtype: float64"
      ]
     },
     "execution_count": 11,
     "metadata": {},
     "output_type": "execute_result"
    }
   ],
   "source": [
    "limbah.min(axis=1,numeric_only=True)"
   ]
  },
  {
   "cell_type": "code",
   "execution_count": 7,
   "id": "f09e381f",
   "metadata": {},
   "outputs": [
    {
     "data": {
      "text/plain": [
       "No_Kecamatan             3.011091\n",
       "Kemasan_kaleng(kg)     240.803261\n",
       "Kemasan_plastik(kg)    101.964254\n",
       "E-waste(kg)            218.309914\n",
       "Baterai(kg)              6.438614\n",
       "Lampu_bekas(kg)          7.724844\n",
       "Limbah_medis(kg)        23.888538\n",
       "Oli_bekas(L)             0.000000\n",
       "dtype: float64"
      ]
     },
     "execution_count": 7,
     "metadata": {},
     "output_type": "execute_result"
    }
   ],
   "source": [
    "limbah.std(numeric_only=True)"
   ]
  },
  {
   "cell_type": "code",
   "execution_count": 8,
   "id": "a841b86c",
   "metadata": {},
   "outputs": [
    {
     "data": {
      "text/plain": [
       "0    264.463732\n",
       "1     67.749017\n",
       "2    227.690269\n",
       "3     70.827714\n",
       "4    149.842895\n",
       "5     41.798855\n",
       "dtype: float64"
      ]
     },
     "execution_count": 8,
     "metadata": {},
     "output_type": "execute_result"
    }
   ],
   "source": [
    "limbah.std(axis=1,numeric_only=True)"
   ]
  },
  {
   "cell_type": "code",
   "execution_count": 10,
   "id": "81888e85",
   "metadata": {},
   "outputs": [
    {
     "data": {
      "text/plain": [
       "No_Kecamatan               9.066667\n",
       "Kemasan_kaleng(kg)     57986.210710\n",
       "Kemasan_plastik(kg)    10396.709027\n",
       "E-waste(kg)            47659.218464\n",
       "Baterai(kg)               41.455750\n",
       "Lampu_bekas(kg)           59.673217\n",
       "Limbah_medis(kg)         570.662237\n",
       "Oli_bekas(L)               0.000000\n",
       "dtype: float64"
      ]
     },
     "execution_count": 10,
     "metadata": {},
     "output_type": "execute_result"
    }
   ],
   "source": [
    "limbah.var(numeric_only=True)"
   ]
  },
  {
   "cell_type": "code",
   "execution_count": 11,
   "id": "8eaa7372",
   "metadata": {},
   "outputs": [
    {
     "data": {
      "text/plain": [
       "0    69941.065292\n",
       "1     4589.929343\n",
       "2    51842.858650\n",
       "3     5016.565000\n",
       "4    22452.893050\n",
       "5     1747.144275\n",
       "dtype: float64"
      ]
     },
     "execution_count": 11,
     "metadata": {},
     "output_type": "execute_result"
    }
   ],
   "source": [
    "limbah.var(axis=1,numeric_only=True)"
   ]
  },
  {
   "cell_type": "code",
   "execution_count": 12,
   "id": "7a810ee2",
   "metadata": {},
   "outputs": [
    {
     "data": {
      "text/html": [
       "<div>\n",
       "<style scoped>\n",
       "    .dataframe tbody tr th:only-of-type {\n",
       "        vertical-align: middle;\n",
       "    }\n",
       "\n",
       "    .dataframe tbody tr th {\n",
       "        vertical-align: top;\n",
       "    }\n",
       "\n",
       "    .dataframe thead th {\n",
       "        text-align: right;\n",
       "    }\n",
       "</style>\n",
       "<table border=\"1\" class=\"dataframe\">\n",
       "  <thead>\n",
       "    <tr style=\"text-align: right;\">\n",
       "      <th></th>\n",
       "      <th>No_Kecamatan</th>\n",
       "      <th>Kemasan_kaleng(kg)</th>\n",
       "      <th>Kemasan_plastik(kg)</th>\n",
       "      <th>E-waste(kg)</th>\n",
       "      <th>Baterai(kg)</th>\n",
       "      <th>Lampu_bekas(kg)</th>\n",
       "      <th>Limbah_medis(kg)</th>\n",
       "      <th>Oli_bekas(L)</th>\n",
       "    </tr>\n",
       "  </thead>\n",
       "  <tbody>\n",
       "    <tr>\n",
       "      <th>count</th>\n",
       "      <td>6.000000</td>\n",
       "      <td>6.000000</td>\n",
       "      <td>6.000000</td>\n",
       "      <td>6.000000</td>\n",
       "      <td>6.000000</td>\n",
       "      <td>6.000000</td>\n",
       "      <td>6.000000</td>\n",
       "      <td>6.0</td>\n",
       "    </tr>\n",
       "    <tr>\n",
       "      <th>mean</th>\n",
       "      <td>7.333333</td>\n",
       "      <td>296.995000</td>\n",
       "      <td>81.943333</td>\n",
       "      <td>244.444167</td>\n",
       "      <td>2.875000</td>\n",
       "      <td>10.398333</td>\n",
       "      <td>21.467500</td>\n",
       "      <td>0.0</td>\n",
       "    </tr>\n",
       "    <tr>\n",
       "      <th>std</th>\n",
       "      <td>3.011091</td>\n",
       "      <td>240.803261</td>\n",
       "      <td>101.964254</td>\n",
       "      <td>218.309914</td>\n",
       "      <td>6.438614</td>\n",
       "      <td>7.724844</td>\n",
       "      <td>23.888538</td>\n",
       "      <td>0.0</td>\n",
       "    </tr>\n",
       "    <tr>\n",
       "      <th>min</th>\n",
       "      <td>2.000000</td>\n",
       "      <td>108.900000</td>\n",
       "      <td>12.860000</td>\n",
       "      <td>82.000000</td>\n",
       "      <td>0.000000</td>\n",
       "      <td>0.000000</td>\n",
       "      <td>0.000000</td>\n",
       "      <td>0.0</td>\n",
       "    </tr>\n",
       "    <tr>\n",
       "      <th>25%</th>\n",
       "      <td>6.500000</td>\n",
       "      <td>160.215000</td>\n",
       "      <td>25.305000</td>\n",
       "      <td>111.796250</td>\n",
       "      <td>0.037500</td>\n",
       "      <td>7.210000</td>\n",
       "      <td>3.018750</td>\n",
       "      <td>0.0</td>\n",
       "    </tr>\n",
       "    <tr>\n",
       "      <th>50%</th>\n",
       "      <td>8.000000</td>\n",
       "      <td>202.210000</td>\n",
       "      <td>53.060000</td>\n",
       "      <td>156.760000</td>\n",
       "      <td>0.175000</td>\n",
       "      <td>9.170000</td>\n",
       "      <td>18.852500</td>\n",
       "      <td>0.0</td>\n",
       "    </tr>\n",
       "    <tr>\n",
       "      <th>75%</th>\n",
       "      <td>9.500000</td>\n",
       "      <td>324.680000</td>\n",
       "      <td>67.000000</td>\n",
       "      <td>276.000000</td>\n",
       "      <td>0.725000</td>\n",
       "      <td>13.162500</td>\n",
       "      <td>26.882500</td>\n",
       "      <td>0.0</td>\n",
       "    </tr>\n",
       "    <tr>\n",
       "      <th>max</th>\n",
       "      <td>10.000000</td>\n",
       "      <td>756.930000</td>\n",
       "      <td>284.980000</td>\n",
       "      <td>658.590000</td>\n",
       "      <td>16.000000</td>\n",
       "      <td>23.000000</td>\n",
       "      <td>63.800000</td>\n",
       "      <td>0.0</td>\n",
       "    </tr>\n",
       "  </tbody>\n",
       "</table>\n",
       "</div>"
      ],
      "text/plain": [
       "       No_Kecamatan  Kemasan_kaleng(kg)  Kemasan_plastik(kg)  E-waste(kg)  \\\n",
       "count      6.000000            6.000000             6.000000     6.000000   \n",
       "mean       7.333333          296.995000            81.943333   244.444167   \n",
       "std        3.011091          240.803261           101.964254   218.309914   \n",
       "min        2.000000          108.900000            12.860000    82.000000   \n",
       "25%        6.500000          160.215000            25.305000   111.796250   \n",
       "50%        8.000000          202.210000            53.060000   156.760000   \n",
       "75%        9.500000          324.680000            67.000000   276.000000   \n",
       "max       10.000000          756.930000           284.980000   658.590000   \n",
       "\n",
       "       Baterai(kg)  Lampu_bekas(kg)  Limbah_medis(kg)  Oli_bekas(L)  \n",
       "count     6.000000         6.000000          6.000000           6.0  \n",
       "mean      2.875000        10.398333         21.467500           0.0  \n",
       "std       6.438614         7.724844         23.888538           0.0  \n",
       "min       0.000000         0.000000          0.000000           0.0  \n",
       "25%       0.037500         7.210000          3.018750           0.0  \n",
       "50%       0.175000         9.170000         18.852500           0.0  \n",
       "75%       0.725000        13.162500         26.882500           0.0  \n",
       "max      16.000000        23.000000         63.800000           0.0  "
      ]
     },
     "execution_count": 12,
     "metadata": {},
     "output_type": "execute_result"
    }
   ],
   "source": [
    "limbah.describe()"
   ]
  },
  {
   "cell_type": "code",
   "execution_count": 16,
   "id": "e1555016",
   "metadata": {},
   "outputs": [
    {
     "data": {
      "text/html": [
       "<div>\n",
       "<style scoped>\n",
       "    .dataframe tbody tr th:only-of-type {\n",
       "        vertical-align: middle;\n",
       "    }\n",
       "\n",
       "    .dataframe tbody tr th {\n",
       "        vertical-align: top;\n",
       "    }\n",
       "\n",
       "    .dataframe thead th {\n",
       "        text-align: right;\n",
       "    }\n",
       "</style>\n",
       "<table border=\"1\" class=\"dataframe\">\n",
       "  <thead>\n",
       "    <tr style=\"text-align: right;\">\n",
       "      <th></th>\n",
       "      <th>No_Kecamatan</th>\n",
       "      <th>Kemasan_kaleng(kg)</th>\n",
       "      <th>Kemasan_plastik(kg)</th>\n",
       "      <th>E-waste(kg)</th>\n",
       "      <th>Baterai(kg)</th>\n",
       "      <th>Lampu_bekas(kg)</th>\n",
       "      <th>Limbah_medis(kg)</th>\n",
       "      <th>Oli_bekas(L)</th>\n",
       "    </tr>\n",
       "  </thead>\n",
       "  <tbody>\n",
       "    <tr>\n",
       "      <th>0</th>\n",
       "      <td>8</td>\n",
       "      <td>756.93</td>\n",
       "      <td>284.98</td>\n",
       "      <td>102.605</td>\n",
       "      <td>0.2</td>\n",
       "      <td>7.84</td>\n",
       "      <td>25.63</td>\n",
       "      <td>0</td>\n",
       "    </tr>\n",
       "    <tr>\n",
       "      <th>1</th>\n",
       "      <td>6</td>\n",
       "      <td>158.17</td>\n",
       "      <td>12.86</td>\n",
       "      <td>139.370</td>\n",
       "      <td>0.0</td>\n",
       "      <td>0.00</td>\n",
       "      <td>0.00</td>\n",
       "      <td>0</td>\n",
       "    </tr>\n",
       "    <tr>\n",
       "      <th>2</th>\n",
       "      <td>10</td>\n",
       "      <td>238.07</td>\n",
       "      <td>58.00</td>\n",
       "      <td>658.590</td>\n",
       "      <td>0.9</td>\n",
       "      <td>10.50</td>\n",
       "      <td>63.80</td>\n",
       "      <td>0</td>\n",
       "    </tr>\n",
       "    <tr>\n",
       "      <th>3</th>\n",
       "      <td>8</td>\n",
       "      <td>166.35</td>\n",
       "      <td>70.00</td>\n",
       "      <td>174.150</td>\n",
       "      <td>16.0</td>\n",
       "      <td>23.00</td>\n",
       "      <td>27.30</td>\n",
       "      <td>0</td>\n",
       "    </tr>\n",
       "    <tr>\n",
       "      <th>4</th>\n",
       "      <td>10</td>\n",
       "      <td>353.55</td>\n",
       "      <td>48.12</td>\n",
       "      <td>309.950</td>\n",
       "      <td>0.0</td>\n",
       "      <td>7.00</td>\n",
       "      <td>0.00</td>\n",
       "      <td>0</td>\n",
       "    </tr>\n",
       "  </tbody>\n",
       "</table>\n",
       "</div>"
      ],
      "text/plain": [
       "   No_Kecamatan  Kemasan_kaleng(kg)  Kemasan_plastik(kg)  E-waste(kg)  \\\n",
       "0             8              756.93               284.98      102.605   \n",
       "1             6              158.17                12.86      139.370   \n",
       "2            10              238.07                58.00      658.590   \n",
       "3             8              166.35                70.00      174.150   \n",
       "4            10              353.55                48.12      309.950   \n",
       "\n",
       "   Baterai(kg)  Lampu_bekas(kg)  Limbah_medis(kg)  Oli_bekas(L)  \n",
       "0          0.2             7.84             25.63             0  \n",
       "1          0.0             0.00              0.00             0  \n",
       "2          0.9            10.50             63.80             0  \n",
       "3         16.0            23.00             27.30             0  \n",
       "4          0.0             7.00              0.00             0  "
      ]
     },
     "execution_count": 16,
     "metadata": {},
     "output_type": "execute_result"
    }
   ],
   "source": [
    "limbah_new = limbah.drop(columns=[\"Wilayah\"])\n",
    "limbah_new.head()"
   ]
  },
  {
   "cell_type": "code",
   "execution_count": 17,
   "id": "183e780d",
   "metadata": {},
   "outputs": [
    {
     "data": {
      "text/html": [
       "<div>\n",
       "<style scoped>\n",
       "    .dataframe tbody tr th:only-of-type {\n",
       "        vertical-align: middle;\n",
       "    }\n",
       "\n",
       "    .dataframe tbody tr th {\n",
       "        vertical-align: top;\n",
       "    }\n",
       "\n",
       "    .dataframe thead th {\n",
       "        text-align: right;\n",
       "    }\n",
       "</style>\n",
       "<table border=\"1\" class=\"dataframe\">\n",
       "  <thead>\n",
       "    <tr style=\"text-align: right;\">\n",
       "      <th></th>\n",
       "      <th>0</th>\n",
       "      <th>1</th>\n",
       "      <th>2</th>\n",
       "      <th>3</th>\n",
       "      <th>4</th>\n",
       "      <th>5</th>\n",
       "    </tr>\n",
       "  </thead>\n",
       "  <tbody>\n",
       "    <tr>\n",
       "      <th>No_Kecamatan</th>\n",
       "      <td>8.000</td>\n",
       "      <td>6.00</td>\n",
       "      <td>10.00</td>\n",
       "      <td>8.00</td>\n",
       "      <td>10.00</td>\n",
       "      <td>2.00</td>\n",
       "    </tr>\n",
       "    <tr>\n",
       "      <th>Kemasan_kaleng(kg)</th>\n",
       "      <td>756.930</td>\n",
       "      <td>158.17</td>\n",
       "      <td>238.07</td>\n",
       "      <td>166.35</td>\n",
       "      <td>353.55</td>\n",
       "      <td>108.90</td>\n",
       "    </tr>\n",
       "    <tr>\n",
       "      <th>Kemasan_plastik(kg)</th>\n",
       "      <td>284.980</td>\n",
       "      <td>12.86</td>\n",
       "      <td>58.00</td>\n",
       "      <td>70.00</td>\n",
       "      <td>48.12</td>\n",
       "      <td>17.70</td>\n",
       "    </tr>\n",
       "    <tr>\n",
       "      <th>E-waste(kg)</th>\n",
       "      <td>102.605</td>\n",
       "      <td>139.37</td>\n",
       "      <td>658.59</td>\n",
       "      <td>174.15</td>\n",
       "      <td>309.95</td>\n",
       "      <td>82.00</td>\n",
       "    </tr>\n",
       "    <tr>\n",
       "      <th>Baterai(kg)</th>\n",
       "      <td>0.200</td>\n",
       "      <td>0.00</td>\n",
       "      <td>0.90</td>\n",
       "      <td>16.00</td>\n",
       "      <td>0.00</td>\n",
       "      <td>0.15</td>\n",
       "    </tr>\n",
       "  </tbody>\n",
       "</table>\n",
       "</div>"
      ],
      "text/plain": [
       "                           0       1       2       3       4       5\n",
       "No_Kecamatan           8.000    6.00   10.00    8.00   10.00    2.00\n",
       "Kemasan_kaleng(kg)   756.930  158.17  238.07  166.35  353.55  108.90\n",
       "Kemasan_plastik(kg)  284.980   12.86   58.00   70.00   48.12   17.70\n",
       "E-waste(kg)          102.605  139.37  658.59  174.15  309.95   82.00\n",
       "Baterai(kg)            0.200    0.00    0.90   16.00    0.00    0.15"
      ]
     },
     "execution_count": 17,
     "metadata": {},
     "output_type": "execute_result"
    }
   ],
   "source": [
    "limbah_new_tr = limbah_new.T\n",
    "limbah_new_tr.head()"
   ]
  },
  {
   "cell_type": "code",
   "execution_count": 18,
   "id": "9ef000c6",
   "metadata": {},
   "outputs": [
    {
     "data": {
      "text/html": [
       "<div>\n",
       "<style scoped>\n",
       "    .dataframe tbody tr th:only-of-type {\n",
       "        vertical-align: middle;\n",
       "    }\n",
       "\n",
       "    .dataframe tbody tr th {\n",
       "        vertical-align: top;\n",
       "    }\n",
       "\n",
       "    .dataframe thead th {\n",
       "        text-align: right;\n",
       "    }\n",
       "</style>\n",
       "<table border=\"1\" class=\"dataframe\">\n",
       "  <thead>\n",
       "    <tr style=\"text-align: right;\">\n",
       "      <th></th>\n",
       "      <th>0</th>\n",
       "      <th>1</th>\n",
       "      <th>2</th>\n",
       "      <th>3</th>\n",
       "      <th>4</th>\n",
       "      <th>5</th>\n",
       "    </tr>\n",
       "  </thead>\n",
       "  <tbody>\n",
       "    <tr>\n",
       "      <th>count</th>\n",
       "      <td>8.000000</td>\n",
       "      <td>8.000000</td>\n",
       "      <td>8.000000</td>\n",
       "      <td>8.000000</td>\n",
       "      <td>8.000000</td>\n",
       "      <td>8.000000</td>\n",
       "    </tr>\n",
       "    <tr>\n",
       "      <th>mean</th>\n",
       "      <td>148.273125</td>\n",
       "      <td>39.550000</td>\n",
       "      <td>129.982500</td>\n",
       "      <td>60.600000</td>\n",
       "      <td>91.077500</td>\n",
       "      <td>29.609375</td>\n",
       "    </tr>\n",
       "    <tr>\n",
       "      <th>std</th>\n",
       "      <td>264.463732</td>\n",
       "      <td>67.749017</td>\n",
       "      <td>227.690269</td>\n",
       "      <td>70.827714</td>\n",
       "      <td>149.842895</td>\n",
       "      <td>41.798855</td>\n",
       "    </tr>\n",
       "    <tr>\n",
       "      <th>min</th>\n",
       "      <td>0.000000</td>\n",
       "      <td>0.000000</td>\n",
       "      <td>0.000000</td>\n",
       "      <td>0.000000</td>\n",
       "      <td>0.000000</td>\n",
       "      <td>0.000000</td>\n",
       "    </tr>\n",
       "    <tr>\n",
       "      <th>25%</th>\n",
       "      <td>5.930000</td>\n",
       "      <td>0.000000</td>\n",
       "      <td>7.725000</td>\n",
       "      <td>14.000000</td>\n",
       "      <td>0.000000</td>\n",
       "      <td>1.537500</td>\n",
       "    </tr>\n",
       "    <tr>\n",
       "      <th>50%</th>\n",
       "      <td>16.815000</td>\n",
       "      <td>3.000000</td>\n",
       "      <td>34.250000</td>\n",
       "      <td>25.150000</td>\n",
       "      <td>8.500000</td>\n",
       "      <td>13.062500</td>\n",
       "    </tr>\n",
       "    <tr>\n",
       "      <th>75%</th>\n",
       "      <td>148.198750</td>\n",
       "      <td>44.487500</td>\n",
       "      <td>107.367500</td>\n",
       "      <td>94.087500</td>\n",
       "      <td>113.577500</td>\n",
       "      <td>33.775000</td>\n",
       "    </tr>\n",
       "    <tr>\n",
       "      <th>max</th>\n",
       "      <td>756.930000</td>\n",
       "      <td>158.170000</td>\n",
       "      <td>658.590000</td>\n",
       "      <td>174.150000</td>\n",
       "      <td>353.550000</td>\n",
       "      <td>108.900000</td>\n",
       "    </tr>\n",
       "  </tbody>\n",
       "</table>\n",
       "</div>"
      ],
      "text/plain": [
       "                0           1           2           3           4           5\n",
       "count    8.000000    8.000000    8.000000    8.000000    8.000000    8.000000\n",
       "mean   148.273125   39.550000  129.982500   60.600000   91.077500   29.609375\n",
       "std    264.463732   67.749017  227.690269   70.827714  149.842895   41.798855\n",
       "min      0.000000    0.000000    0.000000    0.000000    0.000000    0.000000\n",
       "25%      5.930000    0.000000    7.725000   14.000000    0.000000    1.537500\n",
       "50%     16.815000    3.000000   34.250000   25.150000    8.500000   13.062500\n",
       "75%    148.198750   44.487500  107.367500   94.087500  113.577500   33.775000\n",
       "max    756.930000  158.170000  658.590000  174.150000  353.550000  108.900000"
      ]
     },
     "execution_count": 18,
     "metadata": {},
     "output_type": "execute_result"
    }
   ],
   "source": [
    "limbah_new_tr.describe()"
   ]
  },
  {
   "cell_type": "code",
   "execution_count": 20,
   "id": "00baf24e",
   "metadata": {},
   "outputs": [
    {
     "name": "stdout",
     "output_type": "stream",
     "text": [
      "                     No_Kecamatan  Kemasan_kaleng(kg)  Kemasan_plastik(kg)  \\\n",
      "No_Kecamatan             9.066667          280.296000            81.618667   \n",
      "Kemasan_kaleng(kg)     280.296000        57986.210710         23223.266380   \n",
      "Kemasan_plastik(kg)     81.618667        23223.266380         10396.709027   \n",
      "E-waste(kg)            428.823333        -6322.043965         -4479.166777   \n",
      "Baterai(kg)              2.480000         -415.915950           -36.334300   \n",
      "Lampu_bekas(kg)         -1.541333         -452.901370           -14.735273   \n",
      "Limbah_medis(kg)        28.204000          438.172685           514.890770   \n",
      "Oli_bekas(L)             0.000000            0.000000             0.000000   \n",
      "\n",
      "                      E-waste(kg)  Baterai(kg)  Lampu_bekas(kg)  \\\n",
      "No_Kecamatan           428.823333     2.480000        -1.541333   \n",
      "Kemasan_kaleng(kg)   -6322.043965  -415.915950      -452.901370   \n",
      "Kemasan_plastik(kg)  -4479.166777   -36.334300       -14.735273   \n",
      "E-waste(kg)          47659.218464  -160.941975       -40.810672   \n",
      "Baterai(kg)           -160.941975    41.455750        40.350850   \n",
      "Lampu_bekas(kg)        -40.810672    40.350850        59.673217   \n",
      "Limbah_medis(kg)      3781.324453    26.168575        65.807125   \n",
      "Oli_bekas(L)             0.000000     0.000000         0.000000   \n",
      "\n",
      "                     Limbah_medis(kg)  Oli_bekas(L)  \n",
      "No_Kecamatan                28.204000           0.0  \n",
      "Kemasan_kaleng(kg)         438.172685           0.0  \n",
      "Kemasan_plastik(kg)        514.890770           0.0  \n",
      "E-waste(kg)               3781.324453           0.0  \n",
      "Baterai(kg)                 26.168575           0.0  \n",
      "Lampu_bekas(kg)             65.807125           0.0  \n",
      "Limbah_medis(kg)           570.662237           0.0  \n",
      "Oli_bekas(L)                 0.000000           0.0  \n"
     ]
    }
   ],
   "source": [
    "covariance = limbah.cov()\n",
    "print(covariance)"
   ]
  },
  {
   "cell_type": "code",
   "execution_count": 22,
   "id": "ee3076a2",
   "metadata": {},
   "outputs": [
    {
     "name": "stdout",
     "output_type": "stream",
     "text": [
      "Pearson correlation coefficient:\n",
      "                     No_Kecamatan  Kemasan_kaleng(kg)  Kemasan_plastik(kg)  \\\n",
      "No_Kecamatan             1.000000            0.386572             0.265838   \n",
      "Kemasan_kaleng(kg)       0.386572            1.000000             0.945830   \n",
      "Kemasan_plastik(kg)      0.265838            0.945830             1.000000   \n",
      "E-waste(kg)              0.652351           -0.120260            -0.201222   \n",
      "Baterai(kg)              0.127919           -0.268257            -0.055345   \n",
      "Lampu_bekas(kg)         -0.066265           -0.243473            -0.018708   \n",
      "Limbah_medis(kg)         0.392100            0.076172             0.211387   \n",
      "Oli_bekas(L)                  NaN                 NaN                  NaN   \n",
      "\n",
      "                     E-waste(kg)  Baterai(kg)  Lampu_bekas(kg)  \\\n",
      "No_Kecamatan            0.652351     0.127919        -0.066265   \n",
      "Kemasan_kaleng(kg)     -0.120260    -0.268257        -0.243473   \n",
      "Kemasan_plastik(kg)    -0.201222    -0.055345        -0.018708   \n",
      "E-waste(kg)             1.000000    -0.114499        -0.024200   \n",
      "Baterai(kg)            -0.114499     1.000000         0.811280   \n",
      "Lampu_bekas(kg)        -0.024200     0.811280         1.000000   \n",
      "Limbah_medis(kg)        0.725072     0.170137         0.356610   \n",
      "Oli_bekas(L)                 NaN          NaN              NaN   \n",
      "\n",
      "                     Limbah_medis(kg)  Oli_bekas(L)  \n",
      "No_Kecamatan                 0.392100           NaN  \n",
      "Kemasan_kaleng(kg)           0.076172           NaN  \n",
      "Kemasan_plastik(kg)          0.211387           NaN  \n",
      "E-waste(kg)                  0.725072           NaN  \n",
      "Baterai(kg)                  0.170137           NaN  \n",
      "Lampu_bekas(kg)              0.356610           NaN  \n",
      "Limbah_medis(kg)             1.000000           NaN  \n",
      "Oli_bekas(L)                      NaN           NaN  \n"
     ]
    }
   ],
   "source": [
    "corrrelation1 = limbah.corr(method=\"pearson\")\n",
    "\n",
    "print(\"Pearson correlation coefficient:\")\n",
    "print(corrrelation1)"
   ]
  },
  {
   "cell_type": "code",
   "execution_count": 25,
   "id": "da5ed913",
   "metadata": {},
   "outputs": [
    {
     "name": "stdout",
     "output_type": "stream",
     "text": [
      "              0             1             2             3             4  \\\n",
      "0  69941.065292  12974.700429  15988.599184  13256.710607  29318.339216   \n",
      "1  12974.700429   4589.929343  12731.805314   4622.460714  10140.091029   \n",
      "2  15988.599184  12731.805314  51842.858650  13916.931000  28079.461407   \n",
      "3  13256.710607   4622.460714  13916.931000   5016.565000  10320.837571   \n",
      "4  29318.339216  10140.091029  28079.461407  10320.837571  22452.893050   \n",
      "5   8742.985824   2789.181250   7300.749045   2850.198214   6187.655170   \n",
      "\n",
      "             5  \n",
      "0  8742.985824  \n",
      "1  2789.181250  \n",
      "2  7300.749045  \n",
      "3  2850.198214  \n",
      "4  6187.655170  \n",
      "5  1747.144275  \n"
     ]
    }
   ],
   "source": [
    "cov_rows = limbah_new_tr.cov()\n",
    "print(cov_rows)"
   ]
  },
  {
   "cell_type": "code",
   "execution_count": 26,
   "id": "9381138a",
   "metadata": {},
   "outputs": [
    {
     "name": "stdout",
     "output_type": "stream",
     "text": [
      "          0         1         2         3         4         5\n",
      "0  1.000000  0.724149  0.265522  0.707728  0.739839  0.790914\n",
      "1  0.724149  1.000000  0.825358  0.963312  0.998856  0.984939\n",
      "2  0.265522  0.825358  1.000000  0.862970  0.823016  0.767112\n",
      "3  0.707728  0.963312  0.862970  1.000000  0.972469  0.962737\n",
      "4  0.739839  0.998856  0.823016  0.972469  1.000000  0.987929\n",
      "5  0.790914  0.984939  0.767112  0.962737  0.987929  1.000000\n"
     ]
    }
   ],
   "source": [
    "corr_rows = limbah_new_tr.corr(method=\"pearson\")\n",
    "print(corr_rows)"
   ]
  },
  {
   "cell_type": "code",
   "execution_count": null,
   "id": "04e1d64f",
   "metadata": {},
   "outputs": [],
   "source": []
  }
 ],
 "metadata": {
  "kernelspec": {
   "display_name": "Python 3 (ipykernel)",
   "language": "python",
   "name": "python3"
  },
  "language_info": {
   "codemirror_mode": {
    "name": "ipython",
    "version": 3
   },
   "file_extension": ".py",
   "mimetype": "text/x-python",
   "name": "python",
   "nbconvert_exporter": "python",
   "pygments_lexer": "ipython3",
   "version": "3.9.7"
  }
 },
 "nbformat": 4,
 "nbformat_minor": 5
}
